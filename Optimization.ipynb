{
  "cells": [
    {
      "cell_type": "markdown",
      "metadata": {
        "id": "mj13gnkgqA5W"
      },
      "source": [
        "## Лабораторная работа 2: Использование численных методов в задачах оптимизации\n",
        "### 1. Поиск минимума функции:\n",
        "\n",
        "\\begin{align}\n",
        "f(x)= \\frac {1}{2} [ (x_ {1})^ {2} + \\sum _ {i=1}^ {2} (x_ {i}-x_ {i+1})^ {2} + (x_ {3})^ {2} ]- x_ {1}\n",
        "\\end{align}\n",
        "\n",
        "\n",
        "##### Представление применимости алгоритмов BFGS и L-BFGS к данной оптимизационной задаче"
      ]
    },
    {
      "cell_type": "markdown",
      "source": [
        "BFGS и L-BFGS применимы к дважды дифференцируемым выпуклым функциям.\n",
        "Достаточно показать выполнение критерия Сильвестра. Матрица Гессе функции f(x):\n",
        "\n",
        "\\begin{equation}\n",
        "H(f) =\n",
        "\\begin{bmatrix}\n",
        "2 & -1 & 0 \\\\\n",
        "-1 & 2 & -1 \\\\\n",
        "0 & -1 & 2 \\\\\n",
        "\\end{bmatrix}\n",
        "\\end{equation}\\\n",
        "\\begin{equation}\n",
        "M_1 =\n",
        "\\left\\lvert\n",
        "\\begin{matrix}\n",
        "2\n",
        "\\end{matrix}\n",
        "\\right\\rvert = 2 > 0\n",
        "\\end{equation}\\\n",
        "\\begin{equation}\n",
        "M_2 =\n",
        "\\left\\lvert\n",
        "\\begin{matrix}\n",
        "2 & -1 \\\\\n",
        "-1 & 2\n",
        "\\end{matrix}\n",
        "\\right\\rvert = 3 > 0\n",
        "\\end{equation}\\\n",
        "\\begin{equation}\n",
        "M_3 =\n",
        "\\left\\lvert\n",
        "\\begin{matrix}\n",
        "2 & -1 & 0 \\\\\n",
        "-1 & 2 & -1 \\\\\n",
        "0 & -1 & 2\n",
        "\\end{matrix}\n",
        "\\right\\rvert = 4 > 0\n",
        "\\end{equation}\n",
        "\n",
        "Все угловые миноры строго положительны - матрица Гессе положительно определена, а значит, f(x) является строго выпуклой (т. е. локальный минимум всегда глобальный)."
      ],
      "metadata": {
        "id": "IJhYM6-sdZzI"
      }
    },
    {
      "cell_type": "markdown",
      "metadata": {
        "id": "DurLyDHuqA5f"
      },
      "source": [
        "##### Реализация алгоритмов BFGS и L-BFGS"
      ]
    },
    {
      "cell_type": "code",
      "source": [
        "import numpy as np\n",
        "from time import time\n",
        "\n",
        "# COMPUTATUON_TIME_MODE = False\n",
        "# def get_time(f, *args, **kwargs):\n",
        "#   start = time()\n",
        "#   res = f(*args, **kwargs)\n",
        "#   finish = time()\n",
        "#   if COMPUTATUON_TIME_MODE:\n",
        "#     return finish - start\n",
        "#   else:\n",
        "#     return res\n"
      ],
      "metadata": {
        "id": "wU9Euf1mq0wL"
      },
      "execution_count": 1,
      "outputs": []
    },
    {
      "cell_type": "code",
      "source": [
        "def f(x: np.array):\n",
        "  return (x[0]**2 + (x[0] - x[1])**2 + (x[1] - x[2])**2 + x[2]**2) / 2 - x[0]\n",
        "\n",
        "\n",
        "def f_grad(x: np.array, f=None):\n",
        "  grad = np.zeros(x.size)\n",
        "  grad[0] = 2*x[0] - x[1] - 1\n",
        "  grad[1] = 2*x[1] - x[0] - x[2]\n",
        "  grad[2] = 2*x[2] - x[1]\n",
        "  return grad\n",
        "\n",
        "\n",
        "def f_grad_findiff(x: np.array, f, h=1e-6):\n",
        "  grad = np.zeros(x.size)\n",
        "  for i in range(x.size):\n",
        "    incr = np.zeros(x.size)\n",
        "    incr[i] = h\n",
        "    grad[i] = (f(x + incr) - f(x - incr)) / (2*h)\n",
        "\n",
        "  return grad\n",
        "\n",
        "\n"
      ],
      "metadata": {
        "id": "60Kbd6xBqTgg"
      },
      "execution_count": 2,
      "outputs": []
    },
    {
      "cell_type": "markdown",
      "metadata": {
        "id": "SfeGjrfYqA5i"
      },
      "source": [
        "##### Приближение матрицы Гессе"
      ]
    },
    {
      "cell_type": "code",
      "execution_count": 3,
      "metadata": {
        "id": "hyCNqZ24qA5i",
        "colab": {
          "base_uri": "https://localhost:8080/"
        },
        "outputId": "0f998f27-df74-46c3-9851-750399e6716a"
      },
      "outputs": [
        {
          "output_type": "execute_result",
          "data": {
            "text/plain": [
              "array([[ 2.0001778 , -1.0000889 ,  0.        ],\n",
              "       [-1.0000889 ,  2.00062189, -0.99986686],\n",
              "       [ 0.        , -0.99986686,  2.0001778 ]])"
            ]
          },
          "metadata": {},
          "execution_count": 3
        }
      ],
      "source": [
        "def hesse(f, x, h=1e-6):\n",
        "  n = x.shape[0]\n",
        "  H = np.zeros((n, n), dtype=np.double)\n",
        "  for j in range(n):\n",
        "    for i in range(j, n):\n",
        "      v = np.zeros((n,))\n",
        "      v[j] = h\n",
        "      g = np.zeros((n,))\n",
        "      g[i] = h\n",
        "      H[j, i] = (f(x + (g + v)) + f(x - (g + v)) - f(x + g - v) - f(x - g + v)) / 4 / h ** 2\n",
        "  idx_lower = np.tril_indices(n, -1)\n",
        "  H[idx_lower] = H.T[idx_lower]\n",
        "  return H\n",
        "\n",
        "hesse(f, np.array([1, -1, 1]))"
      ]
    },
    {
      "cell_type": "code",
      "source": [
        "def line_search_bisection(f, grad_func, x, p, c1=1e-4, c2=0.99, max_iter=1e6):\n",
        "  alpha_max = 1e5\n",
        "  alpha_min = 0\n",
        "  t = 1\n",
        "  while max_iter:\n",
        "    max_iter -= 1\n",
        "    x_new = x + t * p\n",
        "    if f(x_new) > f(x) + c1 * t * grad_func(x, f).T @ p:\n",
        "      alpha_max = t\n",
        "      t = (alpha_max + alpha_min) / 2\n",
        "    elif np.abs(grad_func(x_new, f).T @ p) > -c2 * grad_func(x, f).T @ p:\n",
        "      alpha_min = t\n",
        "      if (alpha_max < 1e5):\n",
        "        t = (alpha_max + alpha_min) / 2\n",
        "      else:\n",
        "        t = 2 * alpha_min\n",
        "    else:\n",
        "      break;\n",
        "  return t\n",
        "\n",
        "\n",
        "def line_search(f, grad_func, x, p, c1=1e-4, c2=0.99, max_iter=1000):\n",
        "  def zoom(min_, max_, iter=1e6):\n",
        "    while iter:\n",
        "      iter -= 1\n",
        "      t = (max_ + min_) / 2\n",
        "      x_new = x + t * p\n",
        "      f_new = f(x_new)\n",
        "      if f_new > f(x) + c1 * t * grad_func(x, f).T @ p or f_new >= f(x + min_ * p):\n",
        "        max_ = t\n",
        "      else:\n",
        "        if np.abs(grad_func(x_new, f).T @ p) <= -c2 * grad_func(x, f).T @ p:\n",
        "          return t\n",
        "        if (max_ - min_) * grad_func(x + min_ * p, f).T @ p >= 0:\n",
        "          max_ = min_\n",
        "        min_ = t\n",
        "    return t\n",
        "\n",
        "  alpha_max=1e5\n",
        "  alpha_min = 0\n",
        "  t = alpha_min\n",
        "  for _ in range(max_iter):\n",
        "    t = (alpha_max + t) / 2\n",
        "    x_new = x + t * p\n",
        "    f_new = f(x_new)\n",
        "\n",
        "    if f_new > f(x) + c1 * t * grad_func(x, f).T @ p or f_new >= f(x + alpha_min * p):\n",
        "      return zoom(alpha_min, t, iter=max_iter)\n",
        "\n",
        "    if np.abs(grad_func(x_new, f).T @ p) <= -c2 * grad_func(x, f).T @ p:\n",
        "        return t\n",
        "    if grad_func(x + alpha_min * p, f).T @ p >= 0:\n",
        "      return zoom(t, alpha_max, iter=max_iter)\n",
        "  return t\n"
      ],
      "metadata": {
        "id": "_N1g_cla0NGn"
      },
      "execution_count": 4,
      "outputs": []
    },
    {
      "cell_type": "code",
      "source": [
        "def BFGS(x0, f, grad_func, hesse_findiff=False, eps=1e-4, max_iter=1e6,):\n",
        "  size = x0.size\n",
        "  if hesse_findiff:\n",
        "      H_inv = hesse(f, x0)\n",
        "  else:\n",
        "    H_inv = np.eye(size)\n",
        "\n",
        "\n",
        "  grad = grad_func( x0, f)\n",
        "  while np.linalg.norm(grad) > eps and max_iter > 0:\n",
        "    p = -H_inv @ grad\n",
        "    alpha = line_search(f, grad_func, x0, p)\n",
        "    x0 = x0 + alpha * p\n",
        "    grad_next = grad_func(x0, f)\n",
        "\n",
        "    s = (alpha * p).reshape(len(p), 1)\n",
        "    y = (grad_next - grad).reshape(len(p), 1)\n",
        "    ro = 1 / (y.T @ s)\n",
        "    H_inv = H_inv + ro**2 * (1/ro + y.T @ H_inv @ y) * s @ s.T - ro * (H_inv @ y @ s.T + s @ y.T @ H_inv)\n",
        "\n",
        "    grad = grad_next\n",
        "    max_iter -= 1\n",
        "  return x0"
      ],
      "metadata": {
        "id": "3n0Tw22aqMXi"
      },
      "execution_count": 26,
      "outputs": []
    },
    {
      "cell_type": "code",
      "source": [
        "x_start = np.ones(3)\n",
        "BFGS(x_start, f, f_grad_findiff)"
      ],
      "metadata": {
        "colab": {
          "base_uri": "https://localhost:8080/"
        },
        "id": "vyKZMqj4VA3B",
        "outputId": "2a1a3961-d633-4c41-b3b6-a29504574e1b"
      },
      "execution_count": 14,
      "outputs": [
        {
          "output_type": "stream",
          "name": "stdout",
          "text": [
            "Optimization was done for 0.023489713668823242 sec.\n"
          ]
        },
        {
          "output_type": "execute_result",
          "data": {
            "text/plain": [
              "array([0.74997875, 0.50000226, 0.2500254 ])"
            ]
          },
          "metadata": {},
          "execution_count": 14
        }
      ]
    },
    {
      "cell_type": "code",
      "execution_count": 21,
      "metadata": {
        "id": "g2ZBsP29qA5h"
      },
      "outputs": [],
      "source": [
        "def LBFGS(x0, f, grad_func, m=3, hesse_findiff=False, eps=1e-4, max_iter=1e6):\n",
        "  size = x0.size\n",
        "  ys = [None] * m\n",
        "  ss = [None] * m\n",
        "  if hesse_findiff:\n",
        "      H_inv = hesse(f, x0)\n",
        "  else:\n",
        "    H_inv = np.eye(size)\n",
        "\n",
        "  grad = grad_func(x0, f)\n",
        "  p = -grad\n",
        "  alpha = line_search(f, grad_func, x0, p)\n",
        "  ss[0] = (alpha * p).reshape(len(p), 1)\n",
        "  x0 = x0 + alpha * p\n",
        "  grad_next = grad_func(x0, f)\n",
        "  ys[0] = (grad_next - grad).reshape(len(p), 1)\n",
        "\n",
        "  k = 1\n",
        "  while np.linalg.norm(grad) > eps and k < max_iter:\n",
        "    p = -LBFGS2loop(grad, k, ss, ys)\n",
        "    alpha = line_search(f, grad_func, x0, p)\n",
        "    s = alpha * p\n",
        "    x0 = x0 + s\n",
        "    grad_next = grad_func(x0, f)\n",
        "    s = s.reshape(len(p), 1)\n",
        "    y = (grad_next - grad).reshape(len(p), 1)\n",
        "    ss[k % m] = s\n",
        "    ys[k % m] = y\n",
        "    k += 1\n",
        "    grad = grad_next\n",
        "  return x0\n",
        "\n",
        "\n",
        "def LBFGS2loop(grad, k, s, y):\n",
        "  q = grad.reshape(len(grad), -1)\n",
        "  m = len(s)\n",
        "  alphas = [None] * m\n",
        "  rhos = [None] * m\n",
        "  for j in range(m):\n",
        "    i = (k - j) % m\n",
        "    if s[i] is None:\n",
        "      continue\n",
        "    rhos[i] = 1 / (s[i].T @ y[i])\n",
        "    alphas[i] = rhos[i] * (s[i].T @ q)\n",
        "    q = q - alphas[i] * y[i]\n",
        "\n",
        "  start = k + 1\n",
        "  while s[start % m] is None:\n",
        "    start += 1\n",
        "  start %= m\n",
        "  gamma = (s[start].T @ y[start]) / (y[start ].T @ y[start])\n",
        "  r = gamma * q\n",
        "  for j in range(m):\n",
        "    i = (j + k + 1) % m\n",
        "    if s[i] is None:\n",
        "      continue\n",
        "    betha = rhos[i] * y[i].T @ r\n",
        "    r = r + s[i] * (alphas[i] - betha)\n",
        "  return r.flatten()\n"
      ]
    },
    {
      "cell_type": "markdown",
      "metadata": {
        "id": "uartorGwqA5j"
      },
      "source": [
        "##### Сравнение алгоритмов BFGS и L-BFGS"
      ]
    },
    {
      "cell_type": "code",
      "source": [
        "!pip install memory_profiler"
      ],
      "metadata": {
        "colab": {
          "base_uri": "https://localhost:8080/"
        },
        "id": "K7bH0QTwB-U8",
        "outputId": "8fe9b3b2-7a27-4ac9-a3cc-74f738326444"
      },
      "execution_count": 23,
      "outputs": [
        {
          "output_type": "stream",
          "name": "stdout",
          "text": [
            "Collecting memory_profiler\n",
            "  Downloading memory_profiler-0.61.0-py3-none-any.whl (31 kB)\n",
            "Requirement already satisfied: psutil in /usr/local/lib/python3.10/dist-packages (from memory_profiler) (5.9.5)\n",
            "Installing collected packages: memory_profiler\n",
            "Successfully installed memory_profiler-0.61.0\n"
          ]
        }
      ]
    },
    {
      "cell_type": "code",
      "source": [
        "from memory_profiler import memory_usage\n",
        "\n",
        "def profile(func, *args, **kwargs):\n",
        "  mem_usage = max(memory_usage(\n",
        "    (func, args, kwargs)\n",
        "    ))\n",
        "  comptime = time()\n",
        "  func(*args, **kwargs)\n",
        "  comptime -= time()\n",
        "  comptime *= -1\n",
        "  return mem_usage, comptime\n",
        "\n",
        "profile(hesse, f, np.array([1, 20, 0]))"
      ],
      "metadata": {
        "colab": {
          "base_uri": "https://localhost:8080/"
        },
        "id": "FKg5Nb7ZBO-e",
        "outputId": "f6d71eae-c078-44d7-be1e-9de2708d28fd"
      },
      "execution_count": 19,
      "outputs": [
        {
          "output_type": "execute_result",
          "data": {
            "text/plain": [
              "(202.4140625, 0.0004086494445800781)"
            ]
          },
          "metadata": {},
          "execution_count": 19
        }
      ]
    },
    {
      "cell_type": "markdown",
      "source": [
        "Метод оптимизации:\n",
        "\n",
        "*   Первый код реализует метод BFGS (Broyden-Fletcher-Goldfarb-Shanno)\n",
        "*   Второй код реализует метод L-BFGS (Limited-memory BFGS) для оптимизации с ограниченной памятью, используя предыдущие итерации для аппроксимации гессиана.\n",
        "\n",
        "Инициализация гессиана:\n",
        "\n",
        "*   В первом коде инициализация гессиана происходит через функцию hesse(x0), которая возвращает началь\n",
        "*   Во втором коде начальное приближение гессиана вычисляется с использованием предыдущих шагов (s и y) и параметров рассчитываемых коэффициентов (alphas и rhos).\n",
        "\n",
        "Способ выбора шага:\n",
        "\n",
        "*   Оба кода используют метод линейного поиска для выбора подходящего шага.\n",
        "\n",
        "Ограничение по памяти:\n",
        "\n",
        "*   Первый код не учитывает ограничение памяти и использует полную аппроксимацию обратного гессиана.\n",
        "*   Второй код специально реализован для работы с ограниченной памятью, что делает его более эффективным при оптимизации функций с большим числом параметров.\n",
        "\n"
      ],
      "metadata": {
        "id": "w1oAe4OnY-ak"
      }
    },
    {
      "cell_type": "code",
      "source": [
        "fs = [BFGS, LBFGS]\n",
        "hesse_findiffs = [True, False]\n",
        "x0s = [\n",
        "    np.array([0.76, 0.49, 0.24]),\n",
        "    np.array([1.5, 1, -0.5]),\n",
        "    np.array([100000, 0, 0]),\n",
        "    np.array([100000, -100000, 2000])\n",
        "]\n",
        "grads = [f_grad, f_grad_findiff]\n",
        "\n",
        "from itertools import product\n",
        "import pandas as pd\n",
        "res = pd.DataFrame(columns=['Function', 'HessInitViaFinDiff', 'InitGuess', 'Grad', 'Memory, MiB', 'Comptime, s'])\n",
        "for i, (func, hes, x0, grad) in enumerate(product(fs, hesse_findiffs, x0s, grads)):\n",
        "  m, t = profile(\n",
        "      func,\n",
        "      x0=x0, f=f, grad_func=grad,\n",
        "      hesse_findiff=hes\n",
        "  )\n",
        "  res.loc[i] = (func.__name__, hes, x0, grad.__name__, m, t)\n",
        "\n"
      ],
      "metadata": {
        "colab": {
          "base_uri": "https://localhost:8080/"
        },
        "id": "EkS7uWH9IDHg",
        "outputId": "dc110e25-8565-48a0-e4c9-e174b1f3bf76"
      },
      "execution_count": 65,
      "outputs": [
        {
          "output_type": "stream",
          "name": "stderr",
          "text": [
            "<ipython-input-26-a45fba54308f>:18: RuntimeWarning: divide by zero encountered in divide\n",
            "  ro = 1 / (y.T @ s)\n",
            "<ipython-input-26-a45fba54308f>:19: RuntimeWarning: invalid value encountered in multiply\n",
            "  H_inv = H_inv + ro**2 * (1/ro + y.T @ H_inv @ y) * s @ s.T - ro * (H_inv @ y @ s.T + s @ y.T @ H_inv)\n",
            "<ipython-input-26-a45fba54308f>:18: RuntimeWarning: divide by zero encountered in divide\n",
            "  ro = 1 / (y.T @ s)\n",
            "<ipython-input-26-a45fba54308f>:19: RuntimeWarning: invalid value encountered in multiply\n",
            "  H_inv = H_inv + ro**2 * (1/ro + y.T @ H_inv @ y) * s @ s.T - ro * (H_inv @ y @ s.T + s @ y.T @ H_inv)\n",
            "<ipython-input-26-a45fba54308f>:18: RuntimeWarning: divide by zero encountered in divide\n",
            "  ro = 1 / (y.T @ s)\n",
            "<ipython-input-26-a45fba54308f>:19: RuntimeWarning: invalid value encountered in multiply\n",
            "  H_inv = H_inv + ro**2 * (1/ro + y.T @ H_inv @ y) * s @ s.T - ro * (H_inv @ y @ s.T + s @ y.T @ H_inv)\n",
            "<ipython-input-26-a45fba54308f>:18: RuntimeWarning: divide by zero encountered in divide\n",
            "  ro = 1 / (y.T @ s)\n",
            "<ipython-input-26-a45fba54308f>:19: RuntimeWarning: invalid value encountered in multiply\n",
            "  H_inv = H_inv + ro**2 * (1/ro + y.T @ H_inv @ y) * s @ s.T - ro * (H_inv @ y @ s.T + s @ y.T @ H_inv)\n"
          ]
        }
      ]
    },
    {
      "cell_type": "code",
      "source": [
        "res"
      ],
      "metadata": {
        "colab": {
          "base_uri": "https://localhost:8080/",
          "height": 1000
        },
        "id": "PilI8a6JNZS_",
        "outputId": "a14d0eff-1caf-4acc-f603-0814699d6e0f"
      },
      "execution_count": 66,
      "outputs": [
        {
          "output_type": "execute_result",
          "data": {
            "text/plain": [
              "   Function  HessInitViaFinDiff  ... Memory, MiB Comptime, s\n",
              "0      BFGS                True  ...  329.453125    0.004105\n",
              "1      BFGS                True  ...  329.480469    0.006109\n",
              "2      BFGS                True  ...  329.496094    0.004345\n",
              "3      BFGS                True  ...  329.496094    0.007878\n",
              "4      BFGS                True  ...  329.496094    0.052376\n",
              "5      BFGS                True  ...  329.593750    0.134087\n",
              "6      BFGS                True  ...  329.593750    0.060618\n",
              "7      BFGS                True  ...  329.593750    0.142450\n",
              "8      BFGS               False  ...  329.593750    0.003729\n",
              "9      BFGS               False  ...  329.593750    0.009080\n",
              "10     BFGS               False  ...  329.593750    0.005039\n",
              "11     BFGS               False  ...  329.593750    0.012316\n",
              "12     BFGS               False  ...  329.593750    0.008212\n",
              "13     BFGS               False  ...  329.593750    0.019269\n",
              "14     BFGS               False  ...  329.593750    0.009024\n",
              "15     BFGS               False  ...  329.593750    0.018169\n",
              "16    LBFGS                True  ...  329.593750    0.020155\n",
              "17    LBFGS                True  ...  329.593750    0.038788\n",
              "18    LBFGS                True  ...  329.593750    0.022377\n",
              "19    LBFGS                True  ...  329.593750    0.041705\n",
              "20    LBFGS                True  ...  329.593750    0.022985\n",
              "21    LBFGS                True  ...  329.593750    0.049160\n",
              "22    LBFGS                True  ...  329.593750    0.024719\n",
              "23    LBFGS                True  ...  329.593750    0.052339\n",
              "24    LBFGS               False  ...  329.593750    0.022635\n",
              "25    LBFGS               False  ...  329.593750    0.039596\n",
              "26    LBFGS               False  ...  329.593750    0.020020\n",
              "27    LBFGS               False  ...  329.593750    0.041444\n",
              "28    LBFGS               False  ...  329.597656    0.022734\n",
              "29    LBFGS               False  ...  329.597656    0.062942\n",
              "30    LBFGS               False  ...  329.597656    0.024475\n",
              "31    LBFGS               False  ...  329.597656    0.101312\n",
              "\n",
              "[32 rows x 6 columns]"
            ],
            "text/html": [
              "\n",
              "  <div id=\"df-c207e37a-9900-460f-872b-ce0c70520e64\" class=\"colab-df-container\">\n",
              "    <div>\n",
              "<style scoped>\n",
              "    .dataframe tbody tr th:only-of-type {\n",
              "        vertical-align: middle;\n",
              "    }\n",
              "\n",
              "    .dataframe tbody tr th {\n",
              "        vertical-align: top;\n",
              "    }\n",
              "\n",
              "    .dataframe thead th {\n",
              "        text-align: right;\n",
              "    }\n",
              "</style>\n",
              "<table border=\"1\" class=\"dataframe\">\n",
              "  <thead>\n",
              "    <tr style=\"text-align: right;\">\n",
              "      <th></th>\n",
              "      <th>Function</th>\n",
              "      <th>HessInitViaFinDiff</th>\n",
              "      <th>InitGuess</th>\n",
              "      <th>Grad</th>\n",
              "      <th>Memory, MiB</th>\n",
              "      <th>Comptime, s</th>\n",
              "    </tr>\n",
              "  </thead>\n",
              "  <tbody>\n",
              "    <tr>\n",
              "      <th>0</th>\n",
              "      <td>BFGS</td>\n",
              "      <td>True</td>\n",
              "      <td>[0.76, 0.49, 0.24]</td>\n",
              "      <td>f_grad</td>\n",
              "      <td>329.453125</td>\n",
              "      <td>0.004105</td>\n",
              "    </tr>\n",
              "    <tr>\n",
              "      <th>1</th>\n",
              "      <td>BFGS</td>\n",
              "      <td>True</td>\n",
              "      <td>[0.76, 0.49, 0.24]</td>\n",
              "      <td>f_grad_findiff</td>\n",
              "      <td>329.480469</td>\n",
              "      <td>0.006109</td>\n",
              "    </tr>\n",
              "    <tr>\n",
              "      <th>2</th>\n",
              "      <td>BFGS</td>\n",
              "      <td>True</td>\n",
              "      <td>[1.5, 1.0, -0.5]</td>\n",
              "      <td>f_grad</td>\n",
              "      <td>329.496094</td>\n",
              "      <td>0.004345</td>\n",
              "    </tr>\n",
              "    <tr>\n",
              "      <th>3</th>\n",
              "      <td>BFGS</td>\n",
              "      <td>True</td>\n",
              "      <td>[1.5, 1.0, -0.5]</td>\n",
              "      <td>f_grad_findiff</td>\n",
              "      <td>329.496094</td>\n",
              "      <td>0.007878</td>\n",
              "    </tr>\n",
              "    <tr>\n",
              "      <th>4</th>\n",
              "      <td>BFGS</td>\n",
              "      <td>True</td>\n",
              "      <td>[100000, 0, 0]</td>\n",
              "      <td>f_grad</td>\n",
              "      <td>329.496094</td>\n",
              "      <td>0.052376</td>\n",
              "    </tr>\n",
              "    <tr>\n",
              "      <th>5</th>\n",
              "      <td>BFGS</td>\n",
              "      <td>True</td>\n",
              "      <td>[100000, 0, 0]</td>\n",
              "      <td>f_grad_findiff</td>\n",
              "      <td>329.593750</td>\n",
              "      <td>0.134087</td>\n",
              "    </tr>\n",
              "    <tr>\n",
              "      <th>6</th>\n",
              "      <td>BFGS</td>\n",
              "      <td>True</td>\n",
              "      <td>[100000, -100000, 2000]</td>\n",
              "      <td>f_grad</td>\n",
              "      <td>329.593750</td>\n",
              "      <td>0.060618</td>\n",
              "    </tr>\n",
              "    <tr>\n",
              "      <th>7</th>\n",
              "      <td>BFGS</td>\n",
              "      <td>True</td>\n",
              "      <td>[100000, -100000, 2000]</td>\n",
              "      <td>f_grad_findiff</td>\n",
              "      <td>329.593750</td>\n",
              "      <td>0.142450</td>\n",
              "    </tr>\n",
              "    <tr>\n",
              "      <th>8</th>\n",
              "      <td>BFGS</td>\n",
              "      <td>False</td>\n",
              "      <td>[0.76, 0.49, 0.24]</td>\n",
              "      <td>f_grad</td>\n",
              "      <td>329.593750</td>\n",
              "      <td>0.003729</td>\n",
              "    </tr>\n",
              "    <tr>\n",
              "      <th>9</th>\n",
              "      <td>BFGS</td>\n",
              "      <td>False</td>\n",
              "      <td>[0.76, 0.49, 0.24]</td>\n",
              "      <td>f_grad_findiff</td>\n",
              "      <td>329.593750</td>\n",
              "      <td>0.009080</td>\n",
              "    </tr>\n",
              "    <tr>\n",
              "      <th>10</th>\n",
              "      <td>BFGS</td>\n",
              "      <td>False</td>\n",
              "      <td>[1.5, 1.0, -0.5]</td>\n",
              "      <td>f_grad</td>\n",
              "      <td>329.593750</td>\n",
              "      <td>0.005039</td>\n",
              "    </tr>\n",
              "    <tr>\n",
              "      <th>11</th>\n",
              "      <td>BFGS</td>\n",
              "      <td>False</td>\n",
              "      <td>[1.5, 1.0, -0.5]</td>\n",
              "      <td>f_grad_findiff</td>\n",
              "      <td>329.593750</td>\n",
              "      <td>0.012316</td>\n",
              "    </tr>\n",
              "    <tr>\n",
              "      <th>12</th>\n",
              "      <td>BFGS</td>\n",
              "      <td>False</td>\n",
              "      <td>[100000, 0, 0]</td>\n",
              "      <td>f_grad</td>\n",
              "      <td>329.593750</td>\n",
              "      <td>0.008212</td>\n",
              "    </tr>\n",
              "    <tr>\n",
              "      <th>13</th>\n",
              "      <td>BFGS</td>\n",
              "      <td>False</td>\n",
              "      <td>[100000, 0, 0]</td>\n",
              "      <td>f_grad_findiff</td>\n",
              "      <td>329.593750</td>\n",
              "      <td>0.019269</td>\n",
              "    </tr>\n",
              "    <tr>\n",
              "      <th>14</th>\n",
              "      <td>BFGS</td>\n",
              "      <td>False</td>\n",
              "      <td>[100000, -100000, 2000]</td>\n",
              "      <td>f_grad</td>\n",
              "      <td>329.593750</td>\n",
              "      <td>0.009024</td>\n",
              "    </tr>\n",
              "    <tr>\n",
              "      <th>15</th>\n",
              "      <td>BFGS</td>\n",
              "      <td>False</td>\n",
              "      <td>[100000, -100000, 2000]</td>\n",
              "      <td>f_grad_findiff</td>\n",
              "      <td>329.593750</td>\n",
              "      <td>0.018169</td>\n",
              "    </tr>\n",
              "    <tr>\n",
              "      <th>16</th>\n",
              "      <td>LBFGS</td>\n",
              "      <td>True</td>\n",
              "      <td>[0.76, 0.49, 0.24]</td>\n",
              "      <td>f_grad</td>\n",
              "      <td>329.593750</td>\n",
              "      <td>0.020155</td>\n",
              "    </tr>\n",
              "    <tr>\n",
              "      <th>17</th>\n",
              "      <td>LBFGS</td>\n",
              "      <td>True</td>\n",
              "      <td>[0.76, 0.49, 0.24]</td>\n",
              "      <td>f_grad_findiff</td>\n",
              "      <td>329.593750</td>\n",
              "      <td>0.038788</td>\n",
              "    </tr>\n",
              "    <tr>\n",
              "      <th>18</th>\n",
              "      <td>LBFGS</td>\n",
              "      <td>True</td>\n",
              "      <td>[1.5, 1.0, -0.5]</td>\n",
              "      <td>f_grad</td>\n",
              "      <td>329.593750</td>\n",
              "      <td>0.022377</td>\n",
              "    </tr>\n",
              "    <tr>\n",
              "      <th>19</th>\n",
              "      <td>LBFGS</td>\n",
              "      <td>True</td>\n",
              "      <td>[1.5, 1.0, -0.5]</td>\n",
              "      <td>f_grad_findiff</td>\n",
              "      <td>329.593750</td>\n",
              "      <td>0.041705</td>\n",
              "    </tr>\n",
              "    <tr>\n",
              "      <th>20</th>\n",
              "      <td>LBFGS</td>\n",
              "      <td>True</td>\n",
              "      <td>[100000, 0, 0]</td>\n",
              "      <td>f_grad</td>\n",
              "      <td>329.593750</td>\n",
              "      <td>0.022985</td>\n",
              "    </tr>\n",
              "    <tr>\n",
              "      <th>21</th>\n",
              "      <td>LBFGS</td>\n",
              "      <td>True</td>\n",
              "      <td>[100000, 0, 0]</td>\n",
              "      <td>f_grad_findiff</td>\n",
              "      <td>329.593750</td>\n",
              "      <td>0.049160</td>\n",
              "    </tr>\n",
              "    <tr>\n",
              "      <th>22</th>\n",
              "      <td>LBFGS</td>\n",
              "      <td>True</td>\n",
              "      <td>[100000, -100000, 2000]</td>\n",
              "      <td>f_grad</td>\n",
              "      <td>329.593750</td>\n",
              "      <td>0.024719</td>\n",
              "    </tr>\n",
              "    <tr>\n",
              "      <th>23</th>\n",
              "      <td>LBFGS</td>\n",
              "      <td>True</td>\n",
              "      <td>[100000, -100000, 2000]</td>\n",
              "      <td>f_grad_findiff</td>\n",
              "      <td>329.593750</td>\n",
              "      <td>0.052339</td>\n",
              "    </tr>\n",
              "    <tr>\n",
              "      <th>24</th>\n",
              "      <td>LBFGS</td>\n",
              "      <td>False</td>\n",
              "      <td>[0.76, 0.49, 0.24]</td>\n",
              "      <td>f_grad</td>\n",
              "      <td>329.593750</td>\n",
              "      <td>0.022635</td>\n",
              "    </tr>\n",
              "    <tr>\n",
              "      <th>25</th>\n",
              "      <td>LBFGS</td>\n",
              "      <td>False</td>\n",
              "      <td>[0.76, 0.49, 0.24]</td>\n",
              "      <td>f_grad_findiff</td>\n",
              "      <td>329.593750</td>\n",
              "      <td>0.039596</td>\n",
              "    </tr>\n",
              "    <tr>\n",
              "      <th>26</th>\n",
              "      <td>LBFGS</td>\n",
              "      <td>False</td>\n",
              "      <td>[1.5, 1.0, -0.5]</td>\n",
              "      <td>f_grad</td>\n",
              "      <td>329.593750</td>\n",
              "      <td>0.020020</td>\n",
              "    </tr>\n",
              "    <tr>\n",
              "      <th>27</th>\n",
              "      <td>LBFGS</td>\n",
              "      <td>False</td>\n",
              "      <td>[1.5, 1.0, -0.5]</td>\n",
              "      <td>f_grad_findiff</td>\n",
              "      <td>329.593750</td>\n",
              "      <td>0.041444</td>\n",
              "    </tr>\n",
              "    <tr>\n",
              "      <th>28</th>\n",
              "      <td>LBFGS</td>\n",
              "      <td>False</td>\n",
              "      <td>[100000, 0, 0]</td>\n",
              "      <td>f_grad</td>\n",
              "      <td>329.597656</td>\n",
              "      <td>0.022734</td>\n",
              "    </tr>\n",
              "    <tr>\n",
              "      <th>29</th>\n",
              "      <td>LBFGS</td>\n",
              "      <td>False</td>\n",
              "      <td>[100000, 0, 0]</td>\n",
              "      <td>f_grad_findiff</td>\n",
              "      <td>329.597656</td>\n",
              "      <td>0.062942</td>\n",
              "    </tr>\n",
              "    <tr>\n",
              "      <th>30</th>\n",
              "      <td>LBFGS</td>\n",
              "      <td>False</td>\n",
              "      <td>[100000, -100000, 2000]</td>\n",
              "      <td>f_grad</td>\n",
              "      <td>329.597656</td>\n",
              "      <td>0.024475</td>\n",
              "    </tr>\n",
              "    <tr>\n",
              "      <th>31</th>\n",
              "      <td>LBFGS</td>\n",
              "      <td>False</td>\n",
              "      <td>[100000, -100000, 2000]</td>\n",
              "      <td>f_grad_findiff</td>\n",
              "      <td>329.597656</td>\n",
              "      <td>0.101312</td>\n",
              "    </tr>\n",
              "  </tbody>\n",
              "</table>\n",
              "</div>\n",
              "    <div class=\"colab-df-buttons\">\n",
              "\n",
              "  <div class=\"colab-df-container\">\n",
              "    <button class=\"colab-df-convert\" onclick=\"convertToInteractive('df-c207e37a-9900-460f-872b-ce0c70520e64')\"\n",
              "            title=\"Convert this dataframe to an interactive table.\"\n",
              "            style=\"display:none;\">\n",
              "\n",
              "  <svg xmlns=\"http://www.w3.org/2000/svg\" height=\"24px\" viewBox=\"0 -960 960 960\">\n",
              "    <path d=\"M120-120v-720h720v720H120Zm60-500h600v-160H180v160Zm220 220h160v-160H400v160Zm0 220h160v-160H400v160ZM180-400h160v-160H180v160Zm440 0h160v-160H620v160ZM180-180h160v-160H180v160Zm440 0h160v-160H620v160Z\"/>\n",
              "  </svg>\n",
              "    </button>\n",
              "\n",
              "  <style>\n",
              "    .colab-df-container {\n",
              "      display:flex;\n",
              "      gap: 12px;\n",
              "    }\n",
              "\n",
              "    .colab-df-convert {\n",
              "      background-color: #E8F0FE;\n",
              "      border: none;\n",
              "      border-radius: 50%;\n",
              "      cursor: pointer;\n",
              "      display: none;\n",
              "      fill: #1967D2;\n",
              "      height: 32px;\n",
              "      padding: 0 0 0 0;\n",
              "      width: 32px;\n",
              "    }\n",
              "\n",
              "    .colab-df-convert:hover {\n",
              "      background-color: #E2EBFA;\n",
              "      box-shadow: 0px 1px 2px rgba(60, 64, 67, 0.3), 0px 1px 3px 1px rgba(60, 64, 67, 0.15);\n",
              "      fill: #174EA6;\n",
              "    }\n",
              "\n",
              "    .colab-df-buttons div {\n",
              "      margin-bottom: 4px;\n",
              "    }\n",
              "\n",
              "    [theme=dark] .colab-df-convert {\n",
              "      background-color: #3B4455;\n",
              "      fill: #D2E3FC;\n",
              "    }\n",
              "\n",
              "    [theme=dark] .colab-df-convert:hover {\n",
              "      background-color: #434B5C;\n",
              "      box-shadow: 0px 1px 3px 1px rgba(0, 0, 0, 0.15);\n",
              "      filter: drop-shadow(0px 1px 2px rgba(0, 0, 0, 0.3));\n",
              "      fill: #FFFFFF;\n",
              "    }\n",
              "  </style>\n",
              "\n",
              "    <script>\n",
              "      const buttonEl =\n",
              "        document.querySelector('#df-c207e37a-9900-460f-872b-ce0c70520e64 button.colab-df-convert');\n",
              "      buttonEl.style.display =\n",
              "        google.colab.kernel.accessAllowed ? 'block' : 'none';\n",
              "\n",
              "      async function convertToInteractive(key) {\n",
              "        const element = document.querySelector('#df-c207e37a-9900-460f-872b-ce0c70520e64');\n",
              "        const dataTable =\n",
              "          await google.colab.kernel.invokeFunction('convertToInteractive',\n",
              "                                                    [key], {});\n",
              "        if (!dataTable) return;\n",
              "\n",
              "        const docLinkHtml = 'Like what you see? Visit the ' +\n",
              "          '<a target=\"_blank\" href=https://colab.research.google.com/notebooks/data_table.ipynb>data table notebook</a>'\n",
              "          + ' to learn more about interactive tables.';\n",
              "        element.innerHTML = '';\n",
              "        dataTable['output_type'] = 'display_data';\n",
              "        await google.colab.output.renderOutput(dataTable, element);\n",
              "        const docLink = document.createElement('div');\n",
              "        docLink.innerHTML = docLinkHtml;\n",
              "        element.appendChild(docLink);\n",
              "      }\n",
              "    </script>\n",
              "  </div>\n",
              "\n",
              "\n",
              "<div id=\"df-33b2359e-2b76-4968-ab58-ac3662940f93\">\n",
              "  <button class=\"colab-df-quickchart\" onclick=\"quickchart('df-33b2359e-2b76-4968-ab58-ac3662940f93')\"\n",
              "            title=\"Suggest charts.\"\n",
              "            style=\"display:none;\">\n",
              "\n",
              "<svg xmlns=\"http://www.w3.org/2000/svg\" height=\"24px\"viewBox=\"0 0 24 24\"\n",
              "     width=\"24px\">\n",
              "    <g>\n",
              "        <path d=\"M19 3H5c-1.1 0-2 .9-2 2v14c0 1.1.9 2 2 2h14c1.1 0 2-.9 2-2V5c0-1.1-.9-2-2-2zM9 17H7v-7h2v7zm4 0h-2V7h2v10zm4 0h-2v-4h2v4z\"/>\n",
              "    </g>\n",
              "</svg>\n",
              "  </button>\n",
              "\n",
              "<style>\n",
              "  .colab-df-quickchart {\n",
              "      --bg-color: #E8F0FE;\n",
              "      --fill-color: #1967D2;\n",
              "      --hover-bg-color: #E2EBFA;\n",
              "      --hover-fill-color: #174EA6;\n",
              "      --disabled-fill-color: #AAA;\n",
              "      --disabled-bg-color: #DDD;\n",
              "  }\n",
              "\n",
              "  [theme=dark] .colab-df-quickchart {\n",
              "      --bg-color: #3B4455;\n",
              "      --fill-color: #D2E3FC;\n",
              "      --hover-bg-color: #434B5C;\n",
              "      --hover-fill-color: #FFFFFF;\n",
              "      --disabled-bg-color: #3B4455;\n",
              "      --disabled-fill-color: #666;\n",
              "  }\n",
              "\n",
              "  .colab-df-quickchart {\n",
              "    background-color: var(--bg-color);\n",
              "    border: none;\n",
              "    border-radius: 50%;\n",
              "    cursor: pointer;\n",
              "    display: none;\n",
              "    fill: var(--fill-color);\n",
              "    height: 32px;\n",
              "    padding: 0;\n",
              "    width: 32px;\n",
              "  }\n",
              "\n",
              "  .colab-df-quickchart:hover {\n",
              "    background-color: var(--hover-bg-color);\n",
              "    box-shadow: 0 1px 2px rgba(60, 64, 67, 0.3), 0 1px 3px 1px rgba(60, 64, 67, 0.15);\n",
              "    fill: var(--button-hover-fill-color);\n",
              "  }\n",
              "\n",
              "  .colab-df-quickchart-complete:disabled,\n",
              "  .colab-df-quickchart-complete:disabled:hover {\n",
              "    background-color: var(--disabled-bg-color);\n",
              "    fill: var(--disabled-fill-color);\n",
              "    box-shadow: none;\n",
              "  }\n",
              "\n",
              "  .colab-df-spinner {\n",
              "    border: 2px solid var(--fill-color);\n",
              "    border-color: transparent;\n",
              "    border-bottom-color: var(--fill-color);\n",
              "    animation:\n",
              "      spin 1s steps(1) infinite;\n",
              "  }\n",
              "\n",
              "  @keyframes spin {\n",
              "    0% {\n",
              "      border-color: transparent;\n",
              "      border-bottom-color: var(--fill-color);\n",
              "      border-left-color: var(--fill-color);\n",
              "    }\n",
              "    20% {\n",
              "      border-color: transparent;\n",
              "      border-left-color: var(--fill-color);\n",
              "      border-top-color: var(--fill-color);\n",
              "    }\n",
              "    30% {\n",
              "      border-color: transparent;\n",
              "      border-left-color: var(--fill-color);\n",
              "      border-top-color: var(--fill-color);\n",
              "      border-right-color: var(--fill-color);\n",
              "    }\n",
              "    40% {\n",
              "      border-color: transparent;\n",
              "      border-right-color: var(--fill-color);\n",
              "      border-top-color: var(--fill-color);\n",
              "    }\n",
              "    60% {\n",
              "      border-color: transparent;\n",
              "      border-right-color: var(--fill-color);\n",
              "    }\n",
              "    80% {\n",
              "      border-color: transparent;\n",
              "      border-right-color: var(--fill-color);\n",
              "      border-bottom-color: var(--fill-color);\n",
              "    }\n",
              "    90% {\n",
              "      border-color: transparent;\n",
              "      border-bottom-color: var(--fill-color);\n",
              "    }\n",
              "  }\n",
              "</style>\n",
              "\n",
              "  <script>\n",
              "    async function quickchart(key) {\n",
              "      const quickchartButtonEl =\n",
              "        document.querySelector('#' + key + ' button');\n",
              "      quickchartButtonEl.disabled = true;  // To prevent multiple clicks.\n",
              "      quickchartButtonEl.classList.add('colab-df-spinner');\n",
              "      try {\n",
              "        const charts = await google.colab.kernel.invokeFunction(\n",
              "            'suggestCharts', [key], {});\n",
              "      } catch (error) {\n",
              "        console.error('Error during call to suggestCharts:', error);\n",
              "      }\n",
              "      quickchartButtonEl.classList.remove('colab-df-spinner');\n",
              "      quickchartButtonEl.classList.add('colab-df-quickchart-complete');\n",
              "    }\n",
              "    (() => {\n",
              "      let quickchartButtonEl =\n",
              "        document.querySelector('#df-33b2359e-2b76-4968-ab58-ac3662940f93 button');\n",
              "      quickchartButtonEl.style.display =\n",
              "        google.colab.kernel.accessAllowed ? 'block' : 'none';\n",
              "    })();\n",
              "  </script>\n",
              "</div>\n",
              "    </div>\n",
              "  </div>\n"
            ]
          },
          "metadata": {},
          "execution_count": 66
        }
      ]
    },
    {
      "cell_type": "code",
      "source": [
        "res.groupby('Function')['Memory, MiB'].aggregate('mean')\n",
        "\n",
        "#Как можно заметить, потребление памяти для такой простой функции практически не отличается"
      ],
      "metadata": {
        "colab": {
          "base_uri": "https://localhost:8080/"
        },
        "id": "tttu-ezdN8wQ",
        "outputId": "fa557cb3-7512-42e2-83d8-16d47a459a94"
      },
      "execution_count": 68,
      "outputs": [
        {
          "output_type": "execute_result",
          "data": {
            "text/plain": [
              "Function\n",
              "BFGS     329.559570\n",
              "LBFGS    329.594727\n",
              "Name: Memory, MiB, dtype: float64"
            ]
          },
          "metadata": {},
          "execution_count": 68
        }
      ]
    },
    {
      "cell_type": "markdown",
      "source": [
        "Оценим время вычисления"
      ],
      "metadata": {
        "id": "xMY8YcsGUnDW"
      }
    },
    {
      "cell_type": "code",
      "source": [
        "import seaborn as sns\n",
        "import matplotlib.pyplot as plt\n",
        "fig, axes = plt.subplots(1, 2, sharey=True, )\n",
        "fig.set_size_inches(12.5, 8.5)\n",
        "plt.yscale('log')\n",
        "sns.barplot(res[res.Grad == 'f_grad'], x='Function', y='Comptime, s', hue='HessInitViaFinDiff', ax=axes[0], errorbar=None)\n",
        "sns.barplot(res[res.Grad != 'f_grad'], x='Function', y='Comptime, s', hue='HessInitViaFinDiff', ax=axes[1], errorbar=None)\n",
        "\n",
        "for container in axes[0].containers:\n",
        "    axes[0].bar_label(container)\n",
        "for container in axes[1].containers:\n",
        "    axes[1].bar_label(container)\n",
        "\n",
        "axes[0].set_title('analytic gradient')\n",
        "axes[1].set_title('finite difference gradient')\n"
      ],
      "metadata": {
        "colab": {
          "base_uri": "https://localhost:8080/",
          "height": 774
        },
        "id": "UA8aglk3O8de",
        "outputId": "e35ef409-cfe7-4a20-8985-3159af6203c0"
      },
      "execution_count": 72,
      "outputs": [
        {
          "output_type": "execute_result",
          "data": {
            "text/plain": [
              "Text(0.5, 1.0, 'finite difference gradient')"
            ]
          },
          "metadata": {},
          "execution_count": 72
        },
        {
          "output_type": "display_data",
          "data": {
            "text/plain": [
              "<Figure size 1250x850 with 2 Axes>"
            ],
            "image/png": "[encoded data removed]"
          },
          "metadata": {}
        }
      ]
    },
    {
      "cell_type": "markdown",
      "source": [
        "Как следует из графиков, метод инициализации матрицы Гессе не играет особой роли в случае алгоритма LBFGS (разница не более чем в 1,5 раза)\n",
        "тогда как для BFGS эти значения являются куда более радикальными (ускорение в примерно 5 раз в случае использования не единичного приближения)\n",
        "При прочих равных, наилучшим методом с точки зрения скорости показал себя BFGS с использованием единичного приближения гессиана и аналитическим заданием градиента. Медленнее всего работает BFGS с градиентом на конечных разностях и градиентным заданием матрицы Гессе"
      ],
      "metadata": {
        "id": "Gwhjl-WrTnq6"
      }
    },
    {
      "cell_type": "markdown",
      "metadata": {
        "id": "D23Ime6WqA5k"
      },
      "source": [
        "### 2. Практическое применение: использование метода оптимизации L-BFGS для решения задачи логистической регрессии"
      ]
    },
    {
      "cell_type": "markdown",
      "metadata": {
        "id": "K9xJ31M2qA5l"
      },
      "source": [
        "##### Представление набора данных"
      ]
    },
    {
      "cell_type": "code",
      "execution_count": 73,
      "metadata": {
        "id": "1Bj5xIg9qA5l",
        "colab": {
          "base_uri": "https://localhost:8080/"
        },
        "outputId": "7d012ec9-8329-4790-9c3c-3885f96be2c1"
      },
      "outputs": [
        {
          "output_type": "stream",
          "name": "stdout",
          "text": [
            "Collecting ucimlrepo\n",
            "  Downloading ucimlrepo-0.0.1-py3-none-any.whl (7.0 kB)\n",
            "Installing collected packages: ucimlrepo\n",
            "Successfully installed ucimlrepo-0.0.1\n"
          ]
        }
      ],
      "source": [
        "#Information about dataset: https://www.kaggle.com/datasets/nareshbhat/wine-quality-binary-classification\n",
        "!pip install ucimlrepo"
      ]
    },
    {
      "cell_type": "code",
      "source": [
        "from ucimlrepo import fetch_ucirepo\n",
        "\n",
        "wine_quality = fetch_ucirepo(id=186)\n",
        "\n",
        "n = 50\n",
        "idx = np.random.random_sample\n",
        "X = wine_quality.data.features.to_numpy()[:n, :]\n",
        "y = (wine_quality.data.targets.to_numpy() >= 6).astype('int')[:n, :]\n",
        "\n",
        "print(*[f'{k}: {v}' for k, v in wine_quality.metadata.items()], sep='\\n')\n",
        "print(wine_quality.variables)\n"
      ],
      "metadata": {
        "colab": {
          "base_uri": "https://localhost:8080/"
        },
        "id": "ScAH9BYQWewI",
        "outputId": "23d2be93-c13a-49f1-e68b-6994bb3fe447"
      },
      "execution_count": 101,
      "outputs": [
        {
          "output_type": "stream",
          "name": "stdout",
          "text": [
            "uci_id: 186\n",
            "name: Wine Quality\n",
            "repository_url: https://archive.ics.uci.edu/dataset/186/wine+quality\n",
            "data_url: https://archive.ics.uci.edu/static/public/186/data.csv\n",
            "abstract: Two datasets are included, related to red and white vinho verde wine samples, from the north of Portugal. The goal is to model wine quality based on physicochemical tests (see [Cortez et al., 2009], http://www3.dsi.uminho.pt/pcortez/wine/).\n",
            "area: Business\n",
            "tasks: ['Classification', 'Regression']\n",
            "characteristics: ['Multivariate']\n",
            "num_instances: 4898\n",
            "num_features: 11\n",
            "feature_types: ['Real']\n",
            "demographics: []\n",
            "target_col: ['quality']\n",
            "index_col: None\n",
            "has_missing_values: no\n",
            "missing_values_symbol: None\n",
            "year_of_dataset_creation: 2009\n",
            "last_updated: Thu Aug 10 2023\n",
            "dataset_doi: 10.24432/C56S3T\n",
            "creators: ['Paulo Cortez', 'A. Cerdeira', 'F. Almeida', 'T. Matos', 'J. Reis']\n",
            "intro_paper: {'title': 'Modeling wine preferences by data mining from physicochemical properties', 'authors': 'P. Cortez, A. Cerdeira, Fernando Almeida, Telmo Matos, J. Reis', 'published_in': 'Decision Support Systems', 'year': 2009, 'url': 'https://www.semanticscholar.org/paper/Modeling-wine-preferences-by-data-mining-from-Cortez-Cerdeira/bf15a0ccc14ac1deb5cea570c870389c16be019c', 'doi': None}\n",
            "additional_info: {'summary': 'The two datasets are related to red and white variants of the Portuguese \"Vinho Verde\" wine. For more details, consult: http://www.vinhoverde.pt/en/ or the reference [Cortez et al., 2009].  Due to privacy and logistic issues, only physicochemical (inputs) and sensory (the output) variables are available (e.g. there is no data about grape types, wine brand, wine selling price, etc.).\\n\\nThese datasets can be viewed as classification or regression tasks.  The classes are ordered and not balanced (e.g. there are many more normal wines than excellent or poor ones). Outlier detection algorithms could be used to detect the few excellent or poor wines. Also, we are not sure if all input variables are relevant. So it could be interesting to test feature selection methods.\\n', 'purpose': None, 'funded_by': None, 'instances_represent': None, 'recommended_data_splits': None, 'sensitive_data': None, 'preprocessing_description': None, 'variable_info': 'For more information, read [Cortez et al., 2009].\\r\\nInput variables (based on physicochemical tests):\\r\\n   1 - fixed acidity\\r\\n   2 - volatile acidity\\r\\n   3 - citric acid\\r\\n   4 - residual sugar\\r\\n   5 - chlorides\\r\\n   6 - free sulfur dioxide\\r\\n   7 - total sulfur dioxide\\r\\n   8 - density\\r\\n   9 - pH\\r\\n   10 - sulphates\\r\\n   11 - alcohol\\r\\nOutput variable (based on sensory data): \\r\\n   12 - quality (score between 0 and 10)', 'citation': None}\n",
            "                    name     role  ... units missing_values\n",
            "0          fixed_acidity  Feature  ...  None             no\n",
            "1       volatile_acidity  Feature  ...  None             no\n",
            "2            citric_acid  Feature  ...  None             no\n",
            "3         residual_sugar  Feature  ...  None             no\n",
            "4              chlorides  Feature  ...  None             no\n",
            "5    free_sulfur_dioxide  Feature  ...  None             no\n",
            "6   total_sulfur_dioxide  Feature  ...  None             no\n",
            "7                density  Feature  ...  None             no\n",
            "8                     pH  Feature  ...  None             no\n",
            "9              sulphates  Feature  ...  None             no\n",
            "10               alcohol  Feature  ...  None             no\n",
            "11               quality   Target  ...  None             no\n",
            "\n",
            "[12 rows x 7 columns]\n"
          ]
        }
      ]
    },
    {
      "cell_type": "code",
      "source": [
        "np.unique(y, return_counts=1)"
      ],
      "metadata": {
        "colab": {
          "base_uri": "https://localhost:8080/"
        },
        "id": "qVYNpmjkXMTx",
        "outputId": "b119666c-b98a-45ed-b0ae-9e262df743f6"
      },
      "execution_count": 102,
      "outputs": [
        {
          "output_type": "execute_result",
          "data": {
            "text/plain": [
              "(array([0, 1]), array([14, 36]))"
            ]
          },
          "metadata": {},
          "execution_count": 102
        }
      ]
    },
    {
      "cell_type": "markdown",
      "metadata": {
        "id": "z5AG3xqyqA5l"
      },
      "source": [
        "##### Реализация логистической регрессии"
      ]
    },
    {
      "cell_type": "code",
      "execution_count": 103,
      "metadata": {
        "id": "x5x2li2oqA5m"
      },
      "outputs": [],
      "source": [
        "def sigmoid(x):\n",
        "  return 1. / (1. + np.exp(-x))\n",
        "\n",
        "def cross_enthropy(y, ypred):\n",
        "  N = len(y)\n",
        "  eps = 1e-9\n",
        "  res = - np.sum(y * np.log(ypred + eps)) - np.sum((1 - y) * np.log(1 - ypred + eps))\n",
        "  return res\n",
        "\n",
        "class LogReg:\n",
        "  \"\"\"\n",
        "  Реализовано без задания аналитических градиентов -- так сказать, задание на свободное время))))\n",
        "  \"\"\"\n",
        "  def __init__(self, penalty='l2', method='lbfgs', m=4, hesse_findiff=False, eps=1e-4, max_iter=1e6):\n",
        "    self.method = method\n",
        "    self.m = m\n",
        "    self.hesse_findiff = hesse_findiff\n",
        "    self.eps = eps\n",
        "    self.max_iter = max_iter\n",
        "    self.w = None\n",
        "    self.if_fitted = False\n",
        "    self.loss = cross_enthropy\n",
        "    if penalty == 'l2':\n",
        "      self.penalty = lambda w: np.sum(np.square(w))\n",
        "    elif penalty == 'l1':\n",
        "      self.penalty = lambda w: np.sum(np.abs(w))\n",
        "    else:\n",
        "      self.penalty = lambda w: 0\n",
        "\n",
        "  def fit(self, X, y):\n",
        "    def loss_func(w):\n",
        "      preds = sigmoid(X @ w)\n",
        "      return cross_enthropy(y, preds) + self.penalty(w)\n",
        "\n",
        "    X = np.hstack([X, np.ones((X.shape[0], 1))]).astype(np.double)\n",
        "    w = np.zeros(X.shape[1])\n",
        "\n",
        "    if self.method == 'lbfgs':\n",
        "      self.w = LBFGS(w, loss_func, f_grad_findiff, self.m, self.hesse_findiff, self.eps, self.max_iter)\n",
        "    elif self.method == 'bfgs':\n",
        "      self.w = BFGS(w, loss_func, f_grad_findiff, self.hesse_findiff, self.eps, self.max_iter)\n",
        "    else:\n",
        "      raise Exception('This method hasn\\'t been implemented yet!')\n",
        "\n",
        "    self.is_fitted = True\n",
        "    return self\n",
        "\n",
        "  def predict_proba(self, X):\n",
        "    if not self.is_fitted:\n",
        "      raise Exception('Model hasn\\'t been fitted yet!')\n",
        "    X = np.hstack([X, np.ones((X.shape[0], 1))])\n",
        "    tmp = X @ self.w.reshape(len(self.w), -1)\n",
        "    return sigmoid(tmp)\n",
        "\n",
        "  def predict(self, X):\n",
        "    return (self.predict_proba(X) > 0.5).astype('int')\n",
        "\n",
        "\n"
      ]
    },
    {
      "cell_type": "markdown",
      "metadata": {
        "id": "aZ_0n-RiqA5m"
      },
      "source": [
        "##### Сравнение характеристики работы алгоритмов"
      ]
    },
    {
      "cell_type": "code",
      "execution_count": 110,
      "metadata": {
        "id": "5BhcgLJFqA5n"
      },
      "outputs": [],
      "source": [
        "from sklearn.metrics import accuracy_score, mean_squared_error\n",
        "from sklearn.model_selection import train_test_split\n",
        "from sklearn.preprocessing import StandardScaler\n",
        "from sklearn.impute import SimpleImputer\n",
        "xtr, xte, ytr, yte = train_test_split(X, y, random_state=42)\n",
        "\n",
        "scaler = StandardScaler()\n",
        "xtr = scaler.fit_transform(xtr)\n",
        "xte = scaler.transform(xte)\n",
        "imputer = SimpleImputer(fill_value=0)\n",
        "xtr = imputer.fit_transform(xtr)\n",
        "xte = imputer.transform(xte)\n"
      ]
    },
    {
      "cell_type": "code",
      "source": [
        "lr_fd = LogReg(penalty='l2', hesse_findiff=True)\n",
        "lr_ = LogReg(penalty='l2', hesse_findiff=False)\n",
        "\n",
        "t0 = time()\n",
        "lr_fd.fit(xtr, ytr)\n",
        "t1 = time()\n",
        "print('Logisctic regression with finite differences Hessian computation time: ', t1 - t0)\n",
        "\n",
        "t0 = time()\n",
        "lr_.fit(xtr, ytr)\n",
        "t1 = time()\n",
        "print('Logisctic regression with identity matrix Hessian computation time: ', t1 - t0)"
      ],
      "metadata": {
        "colab": {
          "base_uri": "https://localhost:8080/"
        },
        "id": "8O-YOhWWTaed",
        "outputId": "ece706c4-498a-4cb9-ed61-13dadac6b714"
      },
      "execution_count": 117,
      "outputs": [
        {
          "output_type": "stream",
          "name": "stderr",
          "text": [
            "<ipython-input-21-4d20e219bd5e>:43: RuntimeWarning: divide by zero encountered in divide\n",
            "  rhos[i] = 1 / (s[i].T @ y[i])\n",
            "<ipython-input-21-4d20e219bd5e>:45: RuntimeWarning: invalid value encountered in multiply\n",
            "  q = q - alphas[i] * y[i]\n",
            "<ipython-input-21-4d20e219bd5e>:57: RuntimeWarning: invalid value encountered in multiply\n",
            "  betha = rhos[i] * y[i].T @ r\n"
          ]
        },
        {
          "output_type": "stream",
          "name": "stdout",
          "text": [
            "Logisctic regression with finite differences Hessian computation time:  9.262907266616821\n",
            "Logisctic regression with identity matrix Hessian computation time:  8.818696737289429\n"
          ]
        }
      ]
    },
    {
      "cell_type": "code",
      "source": [
        "print('MSE with finite differences Hessian: ', mean_squared_error(yte, lr_fd.predict_proba(xte)))\n",
        "print('MSE with identity matrix Hessian: ', mean_squared_error(yte, lr_.predict_proba(xte)))"
      ],
      "metadata": {
        "id": "nohI3QquJFHv"
      },
      "execution_count": null,
      "outputs": []
    },
    {
      "cell_type": "markdown",
      "source": [
        "Всё поломалось в последний момент...\n"
      ],
      "metadata": {
        "id": "GH6bWgwWiLXf"
      }
    }
  ],
  "metadata": {
    "language_info": {
      "name": "python"
    },
    "orig_nbformat": 4,
    "colab": {
      "provenance": []
    },
    "kernelspec": {
      "name": "python3",
      "display_name": "Python 3"
    }
  },
  "nbformat": 4,
  "nbformat_minor": 0
}
